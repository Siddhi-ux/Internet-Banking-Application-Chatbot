{
  "nbformat": 4,
  "nbformat_minor": 0,
  "metadata": {
    "colab": {
      "provenance": [],
      "authorship_tag": "ABX9TyMPc9++jtsL8fIQrtSnS8aE",
      "include_colab_link": true
    },
    "kernelspec": {
      "name": "python3",
      "display_name": "Python 3"
    },
    "language_info": {
      "name": "python"
    }
  },
  "cells": [
    {
      "cell_type": "markdown",
      "metadata": {
        "id": "view-in-github",
        "colab_type": "text"
      },
      "source": [
        "<a href=\"https://colab.research.google.com/github/Siddhi-ux/Internet-Banking-Application-Chatbot/blob/main/Internet_Banking_Application_ChatBot.ipynb\" target=\"_parent\"><img src=\"https://colab.research.google.com/assets/colab-badge.svg\" alt=\"Open In Colab\"/></a>"
      ]
    },
    {
      "cell_type": "code",
      "execution_count": null,
      "metadata": {
        "id": "CYApJknwHKX2"
      },
      "outputs": [],
      "source": [
        "import re"
      ]
    },
    {
      "cell_type": "code",
      "source": [
        "def internet_banking_chatbot(query):\n",
        "    # Bank balance query\n",
        "    if re.search(r'\\b(balance)\\b', query, re.IGNORECASE):\n",
        "        balance = 10000.00  # Example balance, replace with actual balance retrieval logic\n",
        "        return f\"Bank Balance in the account is Rs. {balance:.2f}\"\n",
        "\n",
        "    # Transfer money query\n",
        "    elif re.search(r'\\b(transfer|send|move)\\b.*\\b(amount|money)\\b.*\\b(other|external)\\b.*\\b(account|bank)\\b', query, re.IGNORECASE):\n",
        "        steps = \"\"\"\n",
        "        Detailed steps to transfer money:\n",
        "        1. Log in to your Internet Banking account.\n",
        "        2. Navigate to the 'Transfer Funds' section.\n",
        "        3. Add the recipient's bank account details.\n",
        "        4. Enter the amount you want to transfer.\n",
        "        5. Confirm and authorize the transfer.\n",
        "        \"\"\"\n",
        "        return steps.strip()\n",
        "\n",
        "    # Check transaction history query\n",
        "    elif re.search(r'\\b(history|transaction)\\b.*\\b(account)\\b', query, re.IGNORECASE):\n",
        "        history = \"\"\"\n",
        "        Here are your recent transactions:\n",
        "        1. Transaction ID: 123456789, Amount: Rs. 5000.00, Date: 2024-06-30\n",
        "        2. Transaction ID: 123456790, Amount: Rs. 15000.00, Date: 2024-06-29\n",
        "        \"\"\"\n",
        "        return history.strip()\n",
        "\n",
        "    # Pay bills query\n",
        "    elif re.search(r'\\b(pay)\\b.*\\b(bill|utility)\\b', query, re.IGNORECASE):\n",
        "        bills = \"\"\"\n",
        "        To pay your bills:\n",
        "        1. Log in to your Internet Banking account.\n",
        "        2. Navigate to the 'Bill Payments' section.\n",
        "        3. Select the type of bill you want to pay (electricity, water, etc.).\n",
        "        4. Enter the bill details and amount.\n",
        "        5. Confirm and authorize the payment.\n",
        "        \"\"\"\n",
        "        return bills.strip()\n",
        "\n",
        "    # Change password query\n",
        "    elif re.search(r'\\b(change)\\b.*\\b(password)\\b', query, re.IGNORECASE):\n",
        "        change_password = \"\"\"\n",
        "        To change your Internet Banking password:\n",
        "        1. Log in to your Internet Banking account.\n",
        "        2. Go to the 'Change Password' section.\n",
        "        3. Follow the instructions to update your password securely.\n",
        "        \"\"\"\n",
        "        return change_password.strip()\n",
        "\n",
        "    # Help query\n",
        "    elif re.search(r'\\b(help)\\b', query, re.IGNORECASE):\n",
        "        help_info = \"\"\"\n",
        "        How can I assist you today? You can ask about:\n",
        "        - Checking your bank balance\n",
        "        - Transferring money to other accounts\n",
        "        - Viewing transaction history\n",
        "        - Paying bills\n",
        "        - Changing your password\n",
        "        \"\"\"\n",
        "        return help_info.strip()\n",
        "\n",
        "    # Default response for unrecognized queries\n",
        "    else:\n",
        "        return \"Sorry, I didn't understand that. How can I assist you with your Internet Banking?\""
      ],
      "metadata": {
        "id": "XpCSoWWBHTYo"
      },
      "execution_count": null,
      "outputs": []
    },
    {
      "cell_type": "code",
      "source": [
        "if __name__ == \"__main__\":\n",
        "    while True:\n",
        "        user_input = input(\"You: \")\n",
        "        if user_input.lower() == 'exit':\n",
        "            break\n",
        "        response = internet_banking_chatbot(user_input)\n",
        "        print(\"Bot:\", response)"
      ],
      "metadata": {
        "colab": {
          "base_uri": "https://localhost:8080/",
          "height": 512
        },
        "id": "PDbb9HyzHXz5",
        "outputId": "5df27f10-75c1-4168-b6fb-4540c2325c0a"
      },
      "execution_count": null,
      "outputs": [
        {
          "output_type": "stream",
          "name": "stdout",
          "text": [
            "You: I need to see bank balance in my account\n",
            "Bot: Bank Balance in the account is Rs. 10000.00\n",
            "You: How should I transfer the amount to other bank accounts ?\n",
            "Bot: Detailed steps to transfer money:\n",
            "        1. Log in to your Internet Banking account.\n",
            "        2. Navigate to the 'Transfer Funds' section.\n",
            "        3. Add the recipient's bank account details.\n",
            "        4. Enter the amount you want to transfer.\n",
            "        5. Confirm and authorize the transfer.\n"
          ]
        },
        {
          "output_type": "error",
          "ename": "KeyboardInterrupt",
          "evalue": "Interrupted by user",
          "traceback": [
            "\u001b[0;31m---------------------------------------------------------------------------\u001b[0m",
            "\u001b[0;31mKeyboardInterrupt\u001b[0m                         Traceback (most recent call last)",
            "\u001b[0;32m<ipython-input-4-bf3522b4d446>\u001b[0m in \u001b[0;36m<cell line: 1>\u001b[0;34m()\u001b[0m\n\u001b[1;32m      1\u001b[0m \u001b[0;32mif\u001b[0m \u001b[0m__name__\u001b[0m \u001b[0;34m==\u001b[0m \u001b[0;34m\"__main__\"\u001b[0m\u001b[0;34m:\u001b[0m\u001b[0;34m\u001b[0m\u001b[0;34m\u001b[0m\u001b[0m\n\u001b[1;32m      2\u001b[0m     \u001b[0;32mwhile\u001b[0m \u001b[0;32mTrue\u001b[0m\u001b[0;34m:\u001b[0m\u001b[0;34m\u001b[0m\u001b[0;34m\u001b[0m\u001b[0m\n\u001b[0;32m----> 3\u001b[0;31m         \u001b[0muser_input\u001b[0m \u001b[0;34m=\u001b[0m \u001b[0minput\u001b[0m\u001b[0;34m(\u001b[0m\u001b[0;34m\"You: \"\u001b[0m\u001b[0;34m)\u001b[0m\u001b[0;34m\u001b[0m\u001b[0;34m\u001b[0m\u001b[0m\n\u001b[0m\u001b[1;32m      4\u001b[0m         \u001b[0;32mif\u001b[0m \u001b[0muser_input\u001b[0m\u001b[0;34m.\u001b[0m\u001b[0mlower\u001b[0m\u001b[0;34m(\u001b[0m\u001b[0;34m)\u001b[0m \u001b[0;34m==\u001b[0m \u001b[0;34m'exit'\u001b[0m\u001b[0;34m:\u001b[0m\u001b[0;34m\u001b[0m\u001b[0;34m\u001b[0m\u001b[0m\n\u001b[1;32m      5\u001b[0m             \u001b[0;32mbreak\u001b[0m\u001b[0;34m\u001b[0m\u001b[0;34m\u001b[0m\u001b[0m\n",
            "\u001b[0;32m/usr/local/lib/python3.10/dist-packages/ipykernel/kernelbase.py\u001b[0m in \u001b[0;36mraw_input\u001b[0;34m(self, prompt)\u001b[0m\n\u001b[1;32m    849\u001b[0m                 \u001b[0;34m\"raw_input was called, but this frontend does not support input requests.\"\u001b[0m\u001b[0;34m\u001b[0m\u001b[0;34m\u001b[0m\u001b[0m\n\u001b[1;32m    850\u001b[0m             )\n\u001b[0;32m--> 851\u001b[0;31m         return self._input_request(str(prompt),\n\u001b[0m\u001b[1;32m    852\u001b[0m             \u001b[0mself\u001b[0m\u001b[0;34m.\u001b[0m\u001b[0m_parent_ident\u001b[0m\u001b[0;34m,\u001b[0m\u001b[0;34m\u001b[0m\u001b[0;34m\u001b[0m\u001b[0m\n\u001b[1;32m    853\u001b[0m             \u001b[0mself\u001b[0m\u001b[0;34m.\u001b[0m\u001b[0m_parent_header\u001b[0m\u001b[0;34m,\u001b[0m\u001b[0;34m\u001b[0m\u001b[0;34m\u001b[0m\u001b[0m\n",
            "\u001b[0;32m/usr/local/lib/python3.10/dist-packages/ipykernel/kernelbase.py\u001b[0m in \u001b[0;36m_input_request\u001b[0;34m(self, prompt, ident, parent, password)\u001b[0m\n\u001b[1;32m    893\u001b[0m             \u001b[0;32mexcept\u001b[0m \u001b[0mKeyboardInterrupt\u001b[0m\u001b[0;34m:\u001b[0m\u001b[0;34m\u001b[0m\u001b[0;34m\u001b[0m\u001b[0m\n\u001b[1;32m    894\u001b[0m                 \u001b[0;31m# re-raise KeyboardInterrupt, to truncate traceback\u001b[0m\u001b[0;34m\u001b[0m\u001b[0;34m\u001b[0m\u001b[0m\n\u001b[0;32m--> 895\u001b[0;31m                 \u001b[0;32mraise\u001b[0m \u001b[0mKeyboardInterrupt\u001b[0m\u001b[0;34m(\u001b[0m\u001b[0;34m\"Interrupted by user\"\u001b[0m\u001b[0;34m)\u001b[0m \u001b[0;32mfrom\u001b[0m \u001b[0;32mNone\u001b[0m\u001b[0;34m\u001b[0m\u001b[0;34m\u001b[0m\u001b[0m\n\u001b[0m\u001b[1;32m    896\u001b[0m             \u001b[0;32mexcept\u001b[0m \u001b[0mException\u001b[0m \u001b[0;32mas\u001b[0m \u001b[0me\u001b[0m\u001b[0;34m:\u001b[0m\u001b[0;34m\u001b[0m\u001b[0;34m\u001b[0m\u001b[0m\n\u001b[1;32m    897\u001b[0m                 \u001b[0mself\u001b[0m\u001b[0;34m.\u001b[0m\u001b[0mlog\u001b[0m\u001b[0;34m.\u001b[0m\u001b[0mwarning\u001b[0m\u001b[0;34m(\u001b[0m\u001b[0;34m\"Invalid Message:\"\u001b[0m\u001b[0;34m,\u001b[0m \u001b[0mexc_info\u001b[0m\u001b[0;34m=\u001b[0m\u001b[0;32mTrue\u001b[0m\u001b[0;34m)\u001b[0m\u001b[0;34m\u001b[0m\u001b[0;34m\u001b[0m\u001b[0m\n",
            "\u001b[0;31mKeyboardInterrupt\u001b[0m: Interrupted by user"
          ]
        }
      ]
    }
  ]
}